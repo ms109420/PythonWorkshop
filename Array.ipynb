{
 "cells": [
  {
   "cell_type": "code",
   "execution_count": 1,
   "id": "5119322c",
   "metadata": {},
   "outputs": [
    {
     "name": "stdout",
     "output_type": "stream",
     "text": [
      "test python\n"
     ]
    }
   ],
   "source": [
    "testStr = 'test' + \" python\"\n",
    "print(testStr)"
   ]
  },
  {
   "cell_type": "code",
   "execution_count": 5,
   "id": "23d062b1",
   "metadata": {},
   "outputs": [
    {
     "name": "stdout",
     "output_type": "stream",
     "text": [
      "pointer\n",
      "p\n",
      "n\n"
     ]
    }
   ],
   "source": [
    "str1 = \"pointer\"\n",
    "print(str1)\n",
    "print(str1[0])\n",
    "print(str1[3])"
   ]
  },
  {
   "cell_type": "code",
   "execution_count": 6,
   "id": "ea301e91",
   "metadata": {},
   "outputs": [
    {
     "name": "stdout",
     "output_type": "stream",
     "text": [
      "p\n"
     ]
    }
   ],
   "source": [
    "# 0 ~ 1 미만\n",
    "print(str1[0:1])"
   ]
  },
  {
   "cell_type": "code",
   "execution_count": 7,
   "id": "bee39b91",
   "metadata": {},
   "outputs": [
    {
     "name": "stdout",
     "output_type": "stream",
     "text": [
      "oin\n"
     ]
    }
   ],
   "source": [
    "print(str1[1:4])"
   ]
  },
  {
   "cell_type": "code",
   "execution_count": 8,
   "id": "ea8e58a2",
   "metadata": {},
   "outputs": [
    {
     "name": "stdout",
     "output_type": "stream",
     "text": [
      "po\n"
     ]
    }
   ],
   "source": [
    "print(str1[:2])"
   ]
  },
  {
   "cell_type": "code",
   "execution_count": 9,
   "id": "406fb7d1",
   "metadata": {},
   "outputs": [
    {
     "name": "stdout",
     "output_type": "stream",
     "text": [
      "er\n"
     ]
    }
   ],
   "source": [
    "print(str1[-2:])"
   ]
  },
  {
   "cell_type": "code",
   "execution_count": 10,
   "id": "5867fcdb",
   "metadata": {},
   "outputs": [
    {
     "name": "stdout",
     "output_type": "stream",
     "text": [
      "pointer\n"
     ]
    }
   ],
   "source": [
    "print(str1[:])"
   ]
  },
  {
   "cell_type": "code",
   "execution_count": 11,
   "id": "e04548b1",
   "metadata": {},
   "outputs": [
    {
     "name": "stdout",
     "output_type": "stream",
     "text": [
      "pitr\n"
     ]
    }
   ],
   "source": [
    "print(str1[::2])"
   ]
  },
  {
   "cell_type": "code",
   "execution_count": 13,
   "id": "d35c7bf2",
   "metadata": {},
   "outputs": [
    {
     "name": "stdout",
     "output_type": "stream",
     "text": [
      "3.14\n",
      "77\n",
      "33.0\n",
      "<class 'str'>\n",
      "<class 'int'>\n",
      "<class 'float'>\n"
     ]
    }
   ],
   "source": [
    "makeStr = str(3.14)\n",
    "intStr = int(\"77\")\n",
    "floatStr = float(\"33\")\n",
    "\n",
    "print(makeStr)\n",
    "print(intStr)\n",
    "print(floatStr)\n",
    "\n",
    "print(type(makeStr))\n",
    "print(type(intStr))\n",
    "print(type(floatStr))"
   ]
  },
  {
   "cell_type": "code",
   "execution_count": 14,
   "id": "da9f4cc8",
   "metadata": {},
   "outputs": [
    {
     "name": "stdout",
     "output_type": "stream",
     "text": [
      "['red', 'green', 'blue']\n",
      "<class 'list'>\n"
     ]
    }
   ],
   "source": [
    "colors = ['red', 'green', 'blue']\n",
    "\n",
    "print(colors)\n",
    "print(type(colors))"
   ]
  },
  {
   "cell_type": "code",
   "execution_count": 15,
   "id": "140cebfb",
   "metadata": {},
   "outputs": [
    {
     "name": "stdout",
     "output_type": "stream",
     "text": [
      "['red', 'green', 'blue', 'gold']\n"
     ]
    }
   ],
   "source": [
    "colors.append('gold')\n",
    "print(colors)"
   ]
  },
  {
   "cell_type": "code",
   "execution_count": 17,
   "id": "996a47a0",
   "metadata": {},
   "outputs": [
    {
     "name": "stdout",
     "output_type": "stream",
     "text": [
      "['red', 'black', 'green', 'blue', 'gold']\n"
     ]
    }
   ],
   "source": [
    "colors.insert(1, 'black')\n",
    "print(colors)"
   ]
  },
  {
   "cell_type": "code",
   "execution_count": 21,
   "id": "e4f245de",
   "metadata": {},
   "outputs": [
    {
     "name": "stdout",
     "output_type": "stream",
     "text": [
      "['red', 'black', 'green', 'blue', 'gold', 'white', 'gray']\n"
     ]
    }
   ],
   "source": [
    "extension_colors = ['white', 'gray']\n",
    "colors.extend(extension_colors)\n",
    "print(colors)"
   ]
  },
  {
   "cell_type": "code",
   "execution_count": 26,
   "id": "9dfb52d1",
   "metadata": {},
   "outputs": [
    {
     "name": "stdout",
     "output_type": "stream",
     "text": [
      "['red', 'black', 'green', 'blue', 'gold', 'white', 'gray', 'purple', 'red']\n"
     ]
    }
   ],
   "source": [
    "colors += ['purple']\n",
    "colors += ['red']\n",
    "\n",
    "print(colors)"
   ]
  },
  {
   "cell_type": "code",
   "execution_count": 27,
   "id": "211bc65a",
   "metadata": {},
   "outputs": [
    {
     "name": "stdout",
     "output_type": "stream",
     "text": [
      "7\n"
     ]
    }
   ],
   "source": [
    "print(colors.index('purple'))"
   ]
  },
  {
   "cell_type": "code",
   "execution_count": 24,
   "id": "fea767e0",
   "metadata": {},
   "outputs": [
    {
     "name": "stdout",
     "output_type": "stream",
     "text": [
      "0\n"
     ]
    }
   ],
   "source": [
    "print(colors.index('red'))"
   ]
  },
  {
   "cell_type": "code",
   "execution_count": 28,
   "id": "d282021a",
   "metadata": {},
   "outputs": [
    {
     "name": "stdout",
     "output_type": "stream",
     "text": [
      "8\n"
     ]
    }
   ],
   "source": [
    "print(colors.index('red', 1))"
   ]
  },
  {
   "cell_type": "code",
   "execution_count": 30,
   "id": "c9ca303f",
   "metadata": {},
   "outputs": [
    {
     "name": "stdout",
     "output_type": "stream",
     "text": [
      "6\n"
     ]
    }
   ],
   "source": [
    "print(colors.index('gray', 6))"
   ]
  },
  {
   "cell_type": "code",
   "execution_count": 31,
   "id": "e0f2efe9",
   "metadata": {},
   "outputs": [
    {
     "name": "stdout",
     "output_type": "stream",
     "text": [
      "3\n"
     ]
    }
   ],
   "source": [
    "print(colors.index('blue', 2, 5))"
   ]
  },
  {
   "cell_type": "code",
   "execution_count": 33,
   "id": "a6abea68",
   "metadata": {},
   "outputs": [
    {
     "name": "stdout",
     "output_type": "stream",
     "text": [
      "2\n"
     ]
    }
   ],
   "source": [
    "print(colors.count('red'))"
   ]
  },
  {
   "cell_type": "code",
   "execution_count": 34,
   "id": "b62ee68b",
   "metadata": {},
   "outputs": [
    {
     "name": "stdout",
     "output_type": "stream",
     "text": [
      "red\n"
     ]
    }
   ],
   "source": [
    "print(colors.pop())"
   ]
  },
  {
   "cell_type": "code",
   "execution_count": 35,
   "id": "57a94366",
   "metadata": {},
   "outputs": [
    {
     "name": "stdout",
     "output_type": "stream",
     "text": [
      "purple\n"
     ]
    }
   ],
   "source": [
    "print(colors.pop())"
   ]
  },
  {
   "cell_type": "code",
   "execution_count": 36,
   "id": "b7f9d8c1",
   "metadata": {},
   "outputs": [
    {
     "name": "stdout",
     "output_type": "stream",
     "text": [
      "gray\n"
     ]
    }
   ],
   "source": [
    "print(colors.pop())"
   ]
  },
  {
   "cell_type": "code",
   "execution_count": 37,
   "id": "8db1ee0f",
   "metadata": {},
   "outputs": [
    {
     "name": "stdout",
     "output_type": "stream",
     "text": [
      "white\n"
     ]
    }
   ],
   "source": [
    "print(colors.pop())"
   ]
  },
  {
   "cell_type": "code",
   "execution_count": 38,
   "id": "7d2cfc5c",
   "metadata": {},
   "outputs": [
    {
     "name": "stdout",
     "output_type": "stream",
     "text": [
      "['red', 'black', 'green', 'blue', 'gold']\n"
     ]
    }
   ],
   "source": [
    "print(colors)"
   ]
  },
  {
   "cell_type": "code",
   "execution_count": 39,
   "id": "ca01bd7b",
   "metadata": {},
   "outputs": [
    {
     "name": "stdout",
     "output_type": "stream",
     "text": [
      "['red', 'black', 'blue', 'gold']\n"
     ]
    }
   ],
   "source": [
    "colors.remove('green')\n",
    "print(colors)"
   ]
  },
  {
   "cell_type": "code",
   "execution_count": 42,
   "id": "ac4648dc",
   "metadata": {},
   "outputs": [
    {
     "name": "stdout",
     "output_type": "stream",
     "text": [
      "sort: ['black', 'blue', 'gold', 'red']\n"
     ]
    }
   ],
   "source": [
    "colors.sort()\n",
    "print(\"sort:\", colors)"
   ]
  },
  {
   "cell_type": "code",
   "execution_count": 43,
   "id": "31d8645f",
   "metadata": {},
   "outputs": [
    {
     "name": "stdout",
     "output_type": "stream",
     "text": [
      "['red', 'gold', 'blue', 'black']\n"
     ]
    }
   ],
   "source": [
    "colors.reverse()\n",
    "print(colors)"
   ]
  },
  {
   "cell_type": "code",
   "execution_count": 44,
   "id": "2b38fcb3",
   "metadata": {},
   "outputs": [
    {
     "name": "stdout",
     "output_type": "stream",
     "text": [
      "{1, 2, 3}\n",
      "{3, 4, 5}\n",
      "<class 'set'> <class 'set'>\n",
      "{1, 2, 3, 4, 5}\n"
     ]
    }
   ],
   "source": [
    "a = {1, 2, 3}\n",
    "b = {3, 4, 5}\n",
    "\n",
    "print(a)\n",
    "print(b)\n",
    "print(type(a), type(b))\n",
    "\n",
    "print(a.union(b))"
   ]
  },
  {
   "cell_type": "code",
   "execution_count": 45,
   "id": "a58454fe",
   "metadata": {},
   "outputs": [
    {
     "name": "stdout",
     "output_type": "stream",
     "text": [
      "{3}\n"
     ]
    }
   ],
   "source": [
    "print(a.intersection(b))"
   ]
  },
  {
   "cell_type": "code",
   "execution_count": 46,
   "id": "3bb7f7fa",
   "metadata": {},
   "outputs": [
    {
     "name": "stdout",
     "output_type": "stream",
     "text": [
      "{1, 2}\n",
      "{1, 2, 3, 4, 5}\n",
      "{3}\n",
      "{1, 2, 4, 5}\n"
     ]
    }
   ],
   "source": [
    "print(a - b)\n",
    "print(a | b)\n",
    "print(a & b)\n",
    "print(a ^ b)"
   ]
  },
  {
   "cell_type": "code",
   "execution_count": 47,
   "id": "9bf5f839",
   "metadata": {},
   "outputs": [
    {
     "name": "stdout",
     "output_type": "stream",
     "text": [
      "{'a': 1, 'b': 3, 'c': 5}\n",
      "<class 'dict'>\n"
     ]
    }
   ],
   "source": [
    "d = dict(a = 1, b = 3, c = 5)\n",
    "print(d)\n",
    "print(type(d))"
   ]
  },
  {
   "cell_type": "code",
   "execution_count": 48,
   "id": "70db0be2",
   "metadata": {},
   "outputs": [
    {
     "name": "stdout",
     "output_type": "stream",
     "text": [
      "{'apple': 'red', 'banana': 'yellow'}\n",
      "red\n"
     ]
    }
   ],
   "source": [
    "color = { \"apple\": \"red\", \"banana\": \"yellow\"}\n",
    "print(color)\n",
    "print(color[\"apple\"])"
   ]
  },
  {
   "cell_type": "code",
   "execution_count": 49,
   "id": "79f36f64",
   "metadata": {},
   "outputs": [
    {
     "name": "stdout",
     "output_type": "stream",
     "text": [
      "{'apple': 'red', 'banana': 'yellow', 'cherry': 'red'}\n"
     ]
    }
   ],
   "source": [
    "color[\"cherry\"] = \"red\"\n",
    "print(color)"
   ]
  },
  {
   "cell_type": "code",
   "execution_count": 50,
   "id": "2c9e31b0",
   "metadata": {},
   "outputs": [
    {
     "name": "stdout",
     "output_type": "stream",
     "text": [
      "{'apple': 'green', 'banana': 'yellow', 'cherry': 'red'}\n"
     ]
    }
   ],
   "source": [
    "color[\"apple\"] = \"green\"\n",
    "print(color)"
   ]
  },
  {
   "cell_type": "code",
   "execution_count": 52,
   "id": "9577dda1",
   "metadata": {},
   "outputs": [
    {
     "name": "stdout",
     "output_type": "stream",
     "text": [
      "('apple', 'green')\n",
      "('banana', 'yellow')\n",
      "('cherry', 'red')\n"
     ]
    }
   ],
   "source": [
    "for c in color.items():\n",
    "    print(c)"
   ]
  },
  {
   "cell_type": "code",
   "execution_count": 53,
   "id": "696d03ae",
   "metadata": {},
   "outputs": [
    {
     "name": "stdout",
     "output_type": "stream",
     "text": [
      "apple green\n",
      "banana yellow\n",
      "cherry red\n"
     ]
    }
   ],
   "source": [
    "for k, v in color.items():\n",
    "    print(k, v)"
   ]
  },
  {
   "cell_type": "code",
   "execution_count": 55,
   "id": "09fbd000",
   "metadata": {},
   "outputs": [
    {
     "name": "stdout",
     "output_type": "stream",
     "text": [
      "apple\n",
      "banana\n",
      "cherry\n"
     ]
    }
   ],
   "source": [
    "for k in color.keys():\n",
    "    print(k)"
   ]
  },
  {
   "cell_type": "code",
   "execution_count": 56,
   "id": "372b3b7b",
   "metadata": {},
   "outputs": [
    {
     "name": "stdout",
     "output_type": "stream",
     "text": [
      "green\n",
      "yellow\n",
      "red\n"
     ]
    }
   ],
   "source": [
    "for v in color.values():\n",
    "    print(v)"
   ]
  },
  {
   "cell_type": "code",
   "execution_count": null,
   "id": "ee49ca9c",
   "metadata": {},
   "outputs": [],
   "source": []
  }
 ],
 "metadata": {
  "kernelspec": {
   "display_name": "Python 3",
   "language": "python",
   "name": "python3"
  },
  "language_info": {
   "codemirror_mode": {
    "name": "ipython",
    "version": 3
   },
   "file_extension": ".py",
   "mimetype": "text/x-python",
   "name": "python",
   "nbconvert_exporter": "python",
   "pygments_lexer": "ipython3",
   "version": "3.8.8"
  }
 },
 "nbformat": 4,
 "nbformat_minor": 5
}
