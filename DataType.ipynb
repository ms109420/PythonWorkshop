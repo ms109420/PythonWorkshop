{
 "cells": [
  {
   "cell_type": "code",
   "execution_count": 2,
   "id": "a5f4e234",
   "metadata": {},
   "outputs": [
    {
     "name": "stdout",
     "output_type": "stream",
     "text": [
      "Hello Python\n"
     ]
    }
   ],
   "source": [
    "print(\"Hello Python\")"
   ]
  },
  {
   "cell_type": "code",
   "execution_count": 3,
   "id": "6ee5ed0d",
   "metadata": {},
   "outputs": [
    {
     "name": "stdout",
     "output_type": "stream",
     "text": [
      "1 11\n"
     ]
    }
   ],
   "source": [
    "num = 1\n",
    "Num = 11\n",
    "print(num, Num)\n"
   ]
  },
  {
   "cell_type": "code",
   "execution_count": 5,
   "id": "f4642c12",
   "metadata": {},
   "outputs": [
    {
     "name": "stdout",
     "output_type": "stream",
     "text": [
      "2 8 16\n"
     ]
    }
   ],
   "source": [
    "binary = 0b10\n",
    "octal = 0o10\n",
    "hexa = 0x10\n",
    "\n",
    "print(binary, octal, hexa)"
   ]
  },
  {
   "cell_type": "code",
   "execution_count": 6,
   "id": "1c7afbdc",
   "metadata": {},
   "outputs": [
    {
     "name": "stdout",
     "output_type": "stream",
     "text": [
      "0b100110 0o46 0x26\n"
     ]
    }
   ],
   "source": [
    "binary = bin(38)\n",
    "octal = oct(38)\n",
    "hexa = hex(38)\n",
    "\n",
    "print(binary, octal, hexa)"
   ]
  },
  {
   "cell_type": "code",
   "execution_count": 1,
   "id": "0891f0f3",
   "metadata": {},
   "outputs": [
    {
     "name": "stdout",
     "output_type": "stream",
     "text": [
      "<class 'complex'>\n",
      "-4.0\n",
      "2.0\n",
      "(2+4j)\n"
     ]
    }
   ],
   "source": [
    "z = 2 - 4j\n",
    "\n",
    "print(type(z))\n",
    "print(z.imag)\n",
    "print(z.real)\n",
    "print(z.conjugate())"
   ]
  },
  {
   "cell_type": "code",
   "execution_count": 3,
   "id": "bd821c8e",
   "metadata": {},
   "outputs": [
    {
     "name": "stdout",
     "output_type": "stream",
     "text": [
      "1.2e+30\n",
      "1.57e-20\n",
      "1024\n",
      "<class 'float'>\n",
      "<class 'float'>\n",
      "<class 'int'>\n",
      "27\n"
     ]
    }
   ],
   "source": [
    "big = 1.2e30\n",
    "small = 1.57e-20\n",
    "test = 2**10\n",
    "\n",
    "print(big)\n",
    "print(small)\n",
    "print(test)\n",
    "\n",
    "print(type(big))\n",
    "print(type(small))\n",
    "print(type(test))\n",
    "\n",
    "test2 = 3 ** 3\n",
    "print(test2)"
   ]
  },
  {
   "cell_type": "code",
   "execution_count": 5,
   "id": "07149c17",
   "metadata": {},
   "outputs": [
    {
     "name": "stdout",
     "output_type": "stream",
     "text": [
      "0 0.42857142857142855\n",
      "333 333.3\n"
     ]
    }
   ],
   "source": [
    "# //는 몫만 구하는 나누기 연산\n",
    "num1 = 3 // 7\n",
    "num2 = 3333 // 10\n",
    "# /는 우리가 알고있는 일반적인\n",
    "num3 = 3 / 7\n",
    "num4 = 3333 / 10\n",
    "\n",
    "print(num1, num3)\n",
    "print(num2, num4)"
   ]
  },
  {
   "cell_type": "code",
   "execution_count": null,
   "id": "2eb51be3",
   "metadata": {},
   "outputs": [],
   "source": []
  }
 ],
 "metadata": {
  "kernelspec": {
   "display_name": "Python 3",
   "language": "python",
   "name": "python3"
  },
  "language_info": {
   "codemirror_mode": {
    "name": "ipython",
    "version": 3
   },
   "file_extension": ".py",
   "mimetype": "text/x-python",
   "name": "python",
   "nbconvert_exporter": "python",
   "pygments_lexer": "ipython3",
   "version": "3.8.8"
  }
 },
 "nbformat": 4,
 "nbformat_minor": 5
}
