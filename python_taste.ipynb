{
 "cells": [
  {
   "cell_type": "code",
   "execution_count": 5,
   "id": "bf6d4b3a",
   "metadata": {},
   "outputs": [],
   "source": [
    "# 파이썬에서 주석은 '#' 으로 작성합니다."
   ]
  },
  {
   "cell_type": "code",
   "execution_count": 41,
   "id": "8f08a739",
   "metadata": {},
   "outputs": [],
   "source": [
    "### File Write\n",
    "data = \"hello\"\n",
    "with open(\"test.txt\", \"w\") as fp:\n",
    "    fp.write(data)"
   ]
  },
  {
   "cell_type": "code",
   "execution_count": 6,
   "id": "b98e492c",
   "metadata": {},
   "outputs": [
    {
     "name": "stdout",
     "output_type": "stream",
     "text": [
      "파이썬 쉽네?\n",
      "hello\n"
     ]
    }
   ],
   "source": [
    "### File Read\n",
    "with open(\"test.txt\", \"r\") as fp:\n",
    "    print(\"파이썬 x쉽네 ?\")\n",
    "    print(fp.read())"
   ]
  },
  {
   "cell_type": "code",
   "execution_count": 38,
   "id": "0e8bff48",
   "metadata": {},
   "outputs": [
    {
     "name": "stdout",
     "output_type": "stream",
     "text": [
      " C 드라이브의 볼륨에는 이름이 없습니다.\n",
      " 볼륨 일련 번호: 70CA-ED83\n",
      "\n",
      " C:\\Users\\ms109\\python_works\\PythonWorkshop 디렉터리\n",
      "\n",
      "2021-09-17  오후 07:39    <DIR>          .\n",
      "2021-09-17  오후 07:39    <DIR>          ..\n",
      "2021-09-17  오후 05:48             1,928 .gitignore\n",
      "2021-09-17  오후 06:05    <DIR>          .ipynb_checkpoints\n",
      "2021-09-17  오후 07:39            11,122 python_taste.ipynb\n",
      "2021-09-17  오후 05:48                51 README.md\n",
      "2021-09-17  오후 06:11                 5 test.txt\n",
      "               4개 파일              13,106 바이트\n",
      "               3개 디렉터리  133,024,505,856 바이트 남음\n"
     ]
    }
   ],
   "source": [
    "# Windows\n",
    "!dir"
   ]
  },
  {
   "cell_type": "code",
   "execution_count": null,
   "id": "ae2e0eac",
   "metadata": {},
   "outputs": [],
   "source": [
    "\n",
    "# Windows\n",
    "!type test.txt"
   ]
  },
  {
   "cell_type": "code",
   "execution_count": null,
   "id": "f2820c83",
   "metadata": {},
   "outputs": [],
   "source": []
  },
  {
   "cell_type": "code",
   "execution_count": null,
   "id": "49ba3ef2",
   "metadata": {},
   "outputs": [],
   "source": [
    "import requests"
   ]
  },
  {
   "cell_type": "code",
   "execution_count": 24,
   "id": "1e8da727",
   "metadata": {},
   "outputs": [],
   "source": [
    "# Image URL\n",
    "url = \"https://search1.kakaocdn.net/argon/600x0_65_wr/ImZk3b2X1w8\""
   ]
  },
  {
   "cell_type": "code",
   "execution_count": 42,
   "id": "69b6c2fb",
   "metadata": {},
   "outputs": [
    {
     "ename": "NameError",
     "evalue": "name 'requests' is not defined",
     "output_type": "error",
     "traceback": [
      "\u001b[1;31m---------------------------------------------------------------------------\u001b[0m",
      "\u001b[1;31mNameError\u001b[0m                                 Traceback (most recent call last)",
      "\u001b[1;32m<ipython-input-42-9dea3ff84e44>\u001b[0m in \u001b[0;36m<module>\u001b[1;34m\u001b[0m\n\u001b[0;32m      1\u001b[0m \u001b[1;31m# URL image 요청\u001b[0m\u001b[1;33m\u001b[0m\u001b[1;33m\u001b[0m\u001b[1;33m\u001b[0m\u001b[0m\n\u001b[1;32m----> 2\u001b[1;33m \u001b[0mimg_response\u001b[0m \u001b[1;33m=\u001b[0m \u001b[0mrequests\u001b[0m\u001b[1;33m.\u001b[0m\u001b[0mget\u001b[0m\u001b[1;33m(\u001b[0m\u001b[0murl\u001b[0m\u001b[1;33m)\u001b[0m\u001b[1;33m\u001b[0m\u001b[1;33m\u001b[0m\u001b[0m\n\u001b[0m",
      "\u001b[1;31mNameError\u001b[0m: name 'requests' is not defined"
     ]
    }
   ],
   "source": [
    "# URL image 요청\n",
    "img_response = requests.get(url)"
   ]
  },
  {
   "cell_type": "code",
   "execution_count": 43,
   "id": "42aee878",
   "metadata": {
    "scrolled": true
   },
   "outputs": [
    {
     "ename": "NameError",
     "evalue": "name 'img_response' is not defined",
     "output_type": "error",
     "traceback": [
      "\u001b[1;31m---------------------------------------------------------------------------\u001b[0m",
      "\u001b[1;31mNameError\u001b[0m                                 Traceback (most recent call last)",
      "\u001b[1;32m<ipython-input-43-856ba61a3b17>\u001b[0m in \u001b[0;36m<module>\u001b[1;34m\u001b[0m\n\u001b[0;32m      1\u001b[0m \u001b[1;31m# 요청에 성공했다면\u001b[0m\u001b[1;33m\u001b[0m\u001b[1;33m\u001b[0m\u001b[1;33m\u001b[0m\u001b[0m\n\u001b[1;32m----> 2\u001b[1;33m \u001b[1;32mif\u001b[0m \u001b[0mimg_response\u001b[0m\u001b[1;33m.\u001b[0m\u001b[0mstatus_code\u001b[0m \u001b[1;33m==\u001b[0m \u001b[1;36m200\u001b[0m\u001b[1;33m:\u001b[0m\u001b[1;33m\u001b[0m\u001b[1;33m\u001b[0m\u001b[0m\n\u001b[0m\u001b[0;32m      3\u001b[0m     \u001b[0mprint\u001b[0m\u001b[1;33m(\u001b[0m\u001b[1;34m\"요청 성공!\"\u001b[0m\u001b[1;33m)\u001b[0m\u001b[1;33m\u001b[0m\u001b[1;33m\u001b[0m\u001b[0m\n\u001b[0;32m      4\u001b[0m     \u001b[1;32mwith\u001b[0m \u001b[0mopen\u001b[0m\u001b[1;33m(\u001b[0m\u001b[1;34m\"request_success.jpg\"\u001b[0m\u001b[1;33m,\u001b[0m \u001b[1;34m\"wb\"\u001b[0m\u001b[1;33m)\u001b[0m \u001b[1;32mas\u001b[0m \u001b[0mfp\u001b[0m\u001b[1;33m:\u001b[0m\u001b[1;33m\u001b[0m\u001b[1;33m\u001b[0m\u001b[0m\n\u001b[0;32m      5\u001b[0m         \u001b[0mfp\u001b[0m\u001b[1;33m.\u001b[0m\u001b[0mwrite\u001b[0m\u001b[1;33m(\u001b[0m\u001b[0mimg_response\u001b[0m\u001b[1;33m.\u001b[0m\u001b[0mcontent\u001b[0m\u001b[1;33m)\u001b[0m\u001b[1;33m\u001b[0m\u001b[1;33m\u001b[0m\u001b[0m\n",
      "\u001b[1;31mNameError\u001b[0m: name 'img_response' is not defined"
     ]
    }
   ],
   "source": [
    "# 요청에 성공했다면\n",
    "if img_response.status_code == 200:\n",
    "    print(\"요청 성공!\")\n",
    "    with open(\"request_success.jpg\", \"wb\") as fp:\n",
    "        fp.write(img_response.content)"
   ]
  },
  {
   "cell_type": "code",
   "execution_count": 28,
   "id": "8dfe1159",
   "metadata": {
    "scrolled": true
   },
   "outputs": [
    {
     "name": "stdout",
     "output_type": "stream",
     "text": [
      " C 드라이브의 볼륨에는 이름이 없습니다.\n",
      " 볼륨 일련 번호: 70CA-ED83\n",
      "\n",
      " C:\\Users\\ms109\\python_works\\PythonWorkshop 디렉터리\n",
      "\n",
      "2021-09-17  오후 07:25    <DIR>          .\n",
      "2021-09-17  오후 07:25    <DIR>          ..\n",
      "2021-09-17  오후 05:48             1,928 .gitignore\n",
      "2021-09-17  오후 06:05    <DIR>          .ipynb_checkpoints\n",
      "2021-09-17  오후 07:25             8,127 python_taste.ipynb\n",
      "2021-09-17  오후 05:48                51 README.md\n",
      "2021-09-17  오후 06:11                 5 test.txt\n",
      "               4개 파일              10,111 바이트\n",
      "               3개 디렉터리  133,014,269,952 바이트 남음\n"
     ]
    }
   ],
   "source": [
    "!dir\n",
    " "
   ]
  },
  {
   "cell_type": "code",
   "execution_count": null,
   "id": "e69f05d1",
   "metadata": {},
   "outputs": [],
   "source": []
  },
  {
   "cell_type": "code",
   "execution_count": null,
   "id": "24272c76",
   "metadata": {},
   "outputs": [],
   "source": [
    "\n"
   ]
  },
  {
   "cell_type": "code",
   "execution_count": null,
   "id": "bd89117b",
   "metadata": {},
   "outputs": [],
   "source": [
    "# Kakao Daum 검색 API 활용하기\n",
    "import requests\n",
    "import json"
   ]
  },
  {
   "cell_type": "code",
   "execution_count": null,
   "id": "e8827cfa",
   "metadata": {},
   "outputs": [],
   "source": [
    "# Image 검색 URL\n",
    "url = \"https://dapi.kakao.com/v2/search/image\""
   ]
  },
  {
   "cell_type": "code",
   "execution_count": 37,
   "id": "4f3d1c25",
   "metadata": {},
   "outputs": [],
   "source": [
    "# 요청 헤더\n",
    "headers = {\n",
    "    \"Authorization\": \"KakaoAK 39d65df82b7f6ede8a63d2420051ce87\"\n",
    "}"
   ]
  },
  {
   "cell_type": "code",
   "execution_count": null,
   "id": "37e601ef",
   "metadata": {},
   "outputs": [],
   "source": [
    "# 찾고자 하는 데이터\n",
    "data = {\n",
    "    \"query\" : \"리눅스\"\n",
    "}"
   ]
  },
  {
   "cell_type": "code",
   "execution_count": null,
   "id": "31eadd47",
   "metadata": {},
   "outputs": [],
   "source": [
    "# Image 검색 요청\n",
    "response = requests.post(url, headers=headers, data=data)"
   ]
  },
  {
   "cell_type": "code",
   "execution_count": 36,
   "id": "b82ff0c8",
   "metadata": {},
   "outputs": [
    {
     "ename": "NameError",
     "evalue": "name 'response' is not defined",
     "output_type": "error",
     "traceback": [
      "\u001b[1;31m---------------------------------------------------------------------------\u001b[0m",
      "\u001b[1;31mNameError\u001b[0m                                 Traceback (most recent call last)",
      "\u001b[1;32m<ipython-input-36-fbe771fefb5a>\u001b[0m in \u001b[0;36m<module>\u001b[1;34m\u001b[0m\n\u001b[1;32m----> 1\u001b[1;33m \u001b[0mprint\u001b[0m\u001b[1;33m(\u001b[0m\u001b[0mresponse\u001b[0m\u001b[1;33m.\u001b[0m\u001b[0mstatus_code\u001b[0m\u001b[1;33m)\u001b[0m\u001b[1;33m\u001b[0m\u001b[1;33m\u001b[0m\u001b[0m\n\u001b[0m",
      "\u001b[1;31mNameError\u001b[0m: name 'response' is not defined"
     ]
    }
   ],
   "source": [
    "print(response.status_code)"
   ]
  },
  {
   "cell_type": "code",
   "execution_count": null,
   "id": "f6fbeb20",
   "metadata": {},
   "outputs": [],
   "source": [
    "\n",
    "# 검색해온 모든 이미지를 저장한다.\n",
    "def save_image(image_url, file_name):\n",
    "    img_response = requests.get(image_url)\n",
    "    \n",
    "    # 요청 성공!\n",
    "    if img_response.status_code == 200:\n",
    "        # 저장\n",
    "        with open(file_name, \"wb\") as fp:\n",
    "            fp.write(img_response.content)"
   ]
  },
  {
   "cell_type": "code",
   "execution_count": 44,
   "id": "9f9df405",
   "metadata": {},
   "outputs": [
    {
     "ename": "NameError",
     "evalue": "name 'response' is not defined",
     "output_type": "error",
     "traceback": [
      "\u001b[1;31m---------------------------------------------------------------------------\u001b[0m",
      "\u001b[1;31mNameError\u001b[0m                                 Traceback (most recent call last)",
      "\u001b[1;32m<ipython-input-44-b986bd69f788>\u001b[0m in \u001b[0;36m<module>\u001b[1;34m\u001b[0m\n\u001b[1;32m----> 1\u001b[1;33m \u001b[1;32mif\u001b[0m \u001b[0mresponse\u001b[0m\u001b[1;33m.\u001b[0m\u001b[0mstatus_code\u001b[0m \u001b[1;33m!=\u001b[0m \u001b[1;36m200\u001b[0m\u001b[1;33m:\u001b[0m\u001b[1;33m\u001b[0m\u001b[1;33m\u001b[0m\u001b[0m\n\u001b[0m\u001b[0;32m      2\u001b[0m     \u001b[0mprint\u001b[0m\u001b[1;33m(\u001b[0m\u001b[1;34m\"error 발생!\"\u001b[0m\u001b[1;33m)\u001b[0m\u001b[1;33m\u001b[0m\u001b[1;33m\u001b[0m\u001b[0m\n\u001b[0;32m      3\u001b[0m \u001b[1;32melse\u001b[0m\u001b[1;33m:\u001b[0m\u001b[1;33m\u001b[0m\u001b[1;33m\u001b[0m\u001b[0m\n\u001b[0;32m      4\u001b[0m     \u001b[0mcount\u001b[0m \u001b[1;33m=\u001b[0m \u001b[1;36m0\u001b[0m\u001b[1;33m\u001b[0m\u001b[1;33m\u001b[0m\u001b[0m\n\u001b[0;32m      5\u001b[0m     \u001b[1;32mfor\u001b[0m \u001b[0mimage_info\u001b[0m \u001b[1;32min\u001b[0m \u001b[0mresponse\u001b[0m\u001b[1;33m.\u001b[0m\u001b[0mjson\u001b[0m\u001b[1;33m(\u001b[0m\u001b[1;33m)\u001b[0m\u001b[1;33m[\u001b[0m\u001b[1;34m'documents'\u001b[0m\u001b[1;33m]\u001b[0m\u001b[1;33m:\u001b[0m\u001b[1;33m\u001b[0m\u001b[1;33m\u001b[0m\u001b[0m\n",
      "\u001b[1;31mNameError\u001b[0m: name 'response' is not defined"
     ]
    }
   ],
   "source": [
    "if response.status_code != 200:\n",
    "    print(\"error 발생!\")\n",
    "else:\n",
    "    count = 0\n",
    "    for image_info in response.json()['documents']:\n",
    "        print(f\"[{count}th] image_url = \", image_info['image_url'])\n",
    "        \n",
    "        # 저장될 이미지 파일명\n",
    "        count = count + 1\n",
    "        file_name = \"test_%d.jpg\" %(count)\n",
    "        \n",
    "        # 이미지 저장\n",
    "        save_image(image_info['image_url'], file_name)"
   ]
  },
  {
   "cell_type": "code",
   "execution_count": null,
   "id": "7b7d422c",
   "metadata": {},
   "outputs": [],
   "source": []
  }
 ],
 "metadata": {
  "kernelspec": {
   "display_name": "Python 3",
   "language": "python",
   "name": "python3"
  },
  "language_info": {
   "codemirror_mode": {
    "name": "ipython",
    "version": 3
   },
   "file_extension": ".py",
   "mimetype": "text/x-python",
   "name": "python",
   "nbconvert_exporter": "python",
   "pygments_lexer": "ipython3",
   "version": "3.8.8"
  }
 },
 "nbformat": 4,
 "nbformat_minor": 5
}
